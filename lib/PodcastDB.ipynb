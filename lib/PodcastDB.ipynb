{
 "cells": [
  {
   "cell_type": "code",
   "execution_count": 2,
   "id": "e4c269b0",
   "metadata": {},
   "outputs": [
    {
     "name": "stdout",
     "output_type": "stream",
     "text": [
      "Collecting mysql-connector-python\n",
      "  Downloading mysql_connector_python-8.0.32-cp39-cp39-win_amd64.whl (7.9 MB)\n",
      "     ---------------------------------------- 7.9/7.9 MB 13.6 MB/s eta 0:00:00\n",
      "Requirement already satisfied: protobuf<=3.20.3,>=3.11.0 in c:\\users\\jared\\anaconda3\\envs\\tensorflow\\lib\\site-packages (from mysql-connector-python) (3.17.2)\n",
      "Requirement already satisfied: six>=1.9 in c:\\users\\jared\\anaconda3\\envs\\tensorflow\\lib\\site-packages (from protobuf<=3.20.3,>=3.11.0->mysql-connector-python) (1.16.0)\n",
      "Installing collected packages: mysql-connector-python\n",
      "Successfully installed mysql-connector-python-8.0.32\n"
     ]
    }
   ],
   "source": [
    "!pip install mysql-connector-python"
   ]
  },
  {
   "cell_type": "code",
   "execution_count": 1,
   "id": "15487263",
   "metadata": {},
   "outputs": [],
   "source": [
    "import mysql\n",
    "import mysql.connector\n",
    "from typing import List, Tuple, Set, Dict\n",
    "import pandas as pd\n",
    "import numpy as np"
   ]
  },
  {
   "cell_type": "code",
   "execution_count": 37,
   "id": "85e5f0d6",
   "metadata": {},
   "outputs": [
    {
     "name": "stdout",
     "output_type": "stream",
     "text": [
      "('information_schema',)\n",
      "('mysql',)\n",
      "('performance_schema',)\n",
      "('sakila',)\n",
      "('sys',)\n",
      "('trial_database',)\n",
      "('world',)\n"
     ]
    }
   ],
   "source": [
    "mydb = mysql.connector.connect(\n",
    "      host=\"localhost\",\n",
    "      user=\"jared\",\n",
    "      password=\"199800\",\n",
    "    )\n",
    "\n",
    "\n",
    "mycursor = mydb.cursor()\n",
    "\n",
    "# mycursor.execute(\"CREATE DATABASE trial_database\")\n",
    "\n",
    "\n",
    "mycursor.execute(\"SHOW DATABASES\")\n",
    "\n",
    "for each_db in mycursor:\n",
    "    print(each_db)"
   ]
  },
  {
   "cell_type": "markdown",
   "id": "11759e5a",
   "metadata": {},
   "source": [
    "#### TODO\n",
    "1. Create Database skeleton (class)\n",
    "2. DB class should have creation api\n",
    "3. Add podcast API\n",
    "4. Modify DB API (CRUD)"
   ]
  },
  {
   "cell_type": "code",
   "execution_count": 37,
   "id": "d4333623",
   "metadata": {},
   "outputs": [],
   "source": [
    "class Podcast_DB():\n",
    "    def __init__(self, db_name : str, threshold : int, credentials : Tuple[str, str] = None, create : bool = False):\n",
    "        \"\"\"\n",
    "        credentials: tuple of (username, password)\n",
    "        \n",
    "        function:\n",
    "        \n",
    "        \"\"\"\n",
    "    \n",
    "        username = \"jared\" if not credentials else credentials[0]\n",
    "        pw = \"199800\" if not credentials else credentials[1]\n",
    "        \n",
    "        self.db = mysql.connector.connect(\n",
    "                  host=\"localhost\",\n",
    "                  user=username,\n",
    "                  password=pw\n",
    "        )\n",
    "        print(\"Established MySQL connection with host.\")\n",
    "\n",
    "        if create:\n",
    "            mycursor = self.db.cursor()\n",
    "            mycursor.execute(\"SHOW DATABASES\")\n",
    "            for each_db in mycursor:\n",
    "                if db_name == each_db[0]:\n",
    "                    print(f\"You are creating a database {db_name} that already exists! Please set create = False (default).\")\n",
    "                    return \n",
    "\n",
    "            database_sql = f\"CREATE DATABASE {db_name}\"\n",
    "\n",
    "\n",
    "        else:\n",
    "            mycursor = self.db.cursor()\n",
    "            mycursor.execute(\"SHOW DATABASES\")\n",
    "            exists = False\n",
    "            for each_db in mycursor:\n",
    "                if db_name == each_db[0]:\n",
    "                    exists = True\n",
    "                    break\n",
    "\n",
    "            if not exists:\n",
    "                print(f\"You are trying to access a database with name: {db_name} that does not exist. Please set create = True.\")\n",
    "                return\n",
    "\n",
    "        self.db = mysql.connector.connect(\n",
    "              host=\"localhost\",\n",
    "              user=username,\n",
    "              password=pw,\n",
    "              database = db_name\n",
    "            )\n",
    "\n",
    "        print(f\"Established MySQL connection with database {db_name}.\")\n",
    "\n",
    "\n",
    "        self.threshold = threshold\n",
    "################################################# TABLE NAMES ###################################################\n",
    "        self.first_table = \"podcast_views\"\n",
    "        self.second_table = \"podcast_details\"\n",
    "        \n",
    "#         Checks whether tables are in database already \n",
    "        first_t_cnt = 0\n",
    "        sec_t_cnt = 0\n",
    "        \n",
    "        mycursor = self.db.cursor()\n",
    "        mycursor.execute(\"SHOW TABLES\")\n",
    "        for each_name in mycursor:\n",
    "            if self.first_table == each_name[0]:\n",
    "                first_t_cnt += 1\n",
    "            elif self.second_table == each_name[0]:\n",
    "                sec_t_cnt += 1\n",
    "\n",
    "        if not first_t_cnt:\n",
    "            mycursor.execute(f\"CREATE TABLE {self.first_table} (pid INT NOT NULL AUTO_INCREMENT PRIMARY KEY, num_views INT)\")\n",
    "        if not sec_t_cnt:\n",
    "            second_table_sql = f\"\"\"CREATE TABLE {self.second_table} \n",
    "            (pid INT NOT NULL AUTO_INCREMENT PRIMARY KEY, \n",
    "            url VARCHAR(255), \n",
    "            podcast_title VARCHAR(255), \n",
    "            podcast_name VARCHAR(255), \n",
    "            transcript_filepath VARCHAR(255), \n",
    "            embeddings_filepath VARCHAR(255), \n",
    "            full_summary_filepath VARCHAR(255),\n",
    "            summary VARCHAR(4096))\"\"\"\n",
    "\n",
    "            mycursor.execute(second_table_sql)\n",
    "            \n",
    "        print(f\"Tables successfully created or are present in database {db_name}.\")\n",
    "        \n",
    "    \n",
    "    def show_db(self, columns : List[str]):\n",
    "        column_names = \", \".join(columns)\n",
    "        \n",
    "        mycursor = self.db.cursor()\n",
    "        mycursor.execute(f\"select {column_names} from {self.second_table}\")\n",
    "        myresult = mycursor.fetchall()\n",
    "        \n",
    "        all_entries = []\n",
    "        for each_entry in myresult:\n",
    "            all_entries.append(each_entry)\n",
    "            print(each_entry)\n",
    "            \n",
    "        return all_entries\n",
    "    \n",
    "    def query_db(self, query : str):\n",
    "        \"\"\"use query = all to select ALL\n",
    "        else put in custom query\n",
    "        returns: list of tuples with each tuple representing a row in SQL datatable\n",
    "        \"\"\"\n",
    "        \n",
    "        if query == \"all\":\n",
    "            query = f\"SELECT * from {self.second_table}\"\n",
    "        \n",
    "        mycursor = self.db.cursor()\n",
    "        mycursor.execute(query)\n",
    "        myresult = mycursor.fetchall()\n",
    "\n",
    "        all_entries = []\n",
    "        for each_entry in myresult:\n",
    "            all_entries.append(each_entry)\n",
    "            print(each_entry)\n",
    "            \n",
    "        return all_entries\n",
    "    \n",
    "    \n",
    "    def update_db(self, pid : int, update_dict : Dict[str, str]):\n",
    "        \"\"\"\n",
    "        update_dict : {col_name : new_value} for given pid\n",
    "        \"\"\"\n",
    "        \n",
    "        all_updates = []\n",
    "        for key, val in update_dict.items():\n",
    "            each_update = key + \" = \" + \"'\" + val + \"'\"\n",
    "            all_updates.append(each_update)\n",
    "        \n",
    "        update_str = \", \".join(all_updates)\n",
    "        where_cond = f\"pid = {pid}\"\n",
    "        \n",
    "        update_query = f\"\"\"UPDATE {self.second_table} SET {update_str} WHERE {where_cond}\"\"\"\n",
    "        \n",
    "        print(update_query)\n",
    "        mycursor = self.db.cursor()\n",
    "        mycursor.execute(update_query)\n",
    "        self.db.commit()\n",
    "        \n",
    "        print(f\"Record with pid = {pid} has been successfully updated.\") \n",
    "        \n",
    "        return\n",
    "\n",
    "    \n",
    "    def insert_podcast(self, podcast_params : List[Tuple[str]], incl_pid = False, which_table = \"second\"):\n",
    "        \"\"\"\n",
    "        insert List of tuples, where each tuple contains podcast_parameters\n",
    "                (url VARCHAR(255), \n",
    "                podcast_title VARCHAR(255), \n",
    "                podcast_name VARCHAR(255), \n",
    "                transcript_filepath VARCHAR(255), \n",
    "                embeddings_filepath VARCHAR(255), \n",
    "                full_summary_filepath VARCHAR(255),\n",
    "                summary VARCHAR(4096))\n",
    "        \n",
    "        incl_pid = True means pid will be included as first argument as well so one more param in tuple. Default False.\n",
    "        \n",
    "        No need for pid as it is primary key and auto incremented. Can still include but must make sure pid does not already exist\n",
    "        in table.\n",
    "        \n",
    "        \"\"\"\n",
    "        table_name = self.first_table if which_table == \"first\" else self.second_table\n",
    "        print(table_name)\n",
    "        mycursor = self.db.cursor()\n",
    "        \n",
    "        if which_table == \"first\":\n",
    "            if incl_pid:\n",
    "                sql = f\"\"\"INSERT INTO {table_name} (pid, num_views) VALUES (%s, %s)\"\"\"\n",
    "            else:\n",
    "                sql = f\"\"\"INSERT INTO {table_name} (num_views) VALUES (%s)\"\"\"\n",
    "\n",
    "        else:\n",
    "\n",
    "            if incl_pid:\n",
    "                sql = f\"\"\"INSERT INTO {table_name} (pid, url, podcast_title, podcast_name, transcript_filepath, embeddings_filepath,\n",
    "                        full_summary_filepath, summary) VALUES (%s, %s, %s, %s, %s, %s, %s, %s)\"\"\"\n",
    "            else:\n",
    "                sql = f\"\"\"INSERT INTO {table_name} (url, podcast_title, podcast_name, transcript_filepath, embeddings_filepath,\n",
    "                            full_summary_filepath, summary) VALUES (%s, %s, %s, %s, %s, %s, %s)\"\"\"\n",
    "\n",
    "        mycursor.executemany(sql, podcast_params)\n",
    "\n",
    "            \n",
    "        self.db.commit()\n",
    "        print(f\"{mycursor.rowcount} records successfully inserted.\")\n",
    "        \n",
    "        \n",
    "    \n",
    "    def balance_db(self) -> None:\n",
    "#         Balances both dataframes by ensuring second dataframe only has podcasts above the specified threshold\n",
    "#         Minimally both tables would have been initialized even if empty due to __init__ method\n",
    "        relevant_ids = self.query_db(f\"SELECT pid from {self.first_table} WHERE num_views >= {self.threshold}\")\n",
    "#     Only include relevant ids in second table to reduce storage\n",
    "#         Delete all rows in second table that are not in id_set\n",
    "        id_set = {each_id[0] for each_id in relevant_ids}\n",
    "        \n",
    "        delete_query = f\"\"\"DELETE FROM {self.second_table} WHERE pid NOT IN {id_set}\"\"\"\n",
    "        \n",
    "        print(delete_query)\n",
    "        mycursor = self.db.cursor()\n",
    "        mycursor.execute(delete_query)\n",
    "        self.db.commit()\n",
    "        \n",
    "        print(f\"{mycursor.rowcount} records have been succesfully filtered out due to threshold of {self.threshold}.\")\n",
    "        \n",
    "                            \n",
    "    \n"
   ]
  },
  {
   "cell_type": "code",
   "execution_count": 44,
   "id": "9b06b9d1",
   "metadata": {},
   "outputs": [
    {
     "name": "stdout",
     "output_type": "stream",
     "text": [
      "Established MySQL connection with host.\n",
      "Established MySQL connection with database trial_database.\n",
      "Tables successfully created or are present in database trial_database.\n"
     ]
    }
   ],
   "source": [
    "podcast_db = Podcast_DB(db_name = \"trial_database\", threshold = 100)"
   ]
  },
  {
   "cell_type": "code",
   "execution_count": 12,
   "id": "163da64b",
   "metadata": {},
   "outputs": [],
   "source": [
    "\n",
    "sample_podcast_1 = (\"https://some_podcast.com\", \"some_podcast_title\", \"some_podcast_name\", \"dir/transcript/path\", \"dir/embedding/path\",\n",
    "                 \"dir/summary_path\", \"This is a great summary!\")\n",
    "\n",
    "sample_podcast_2 = (\"https://other_podcast.com\", \"other_podcast_title\", \"other_podcast_name\", \"dir/transcript/otherpath\", \n",
    "                    \"dir/embedding/otherpath\", \"dir/summary_otherpath\", \"This is a great other summary!\")\n",
    "\n",
    "podcast_lst = [sample_podcast_1, sample_podcast_2]\n",
    "\n",
    "# podcast_db.insert_podcast(podcast_lst)"
   ]
  },
  {
   "cell_type": "code",
   "execution_count": 45,
   "id": "b7cc4af4",
   "metadata": {},
   "outputs": [
    {
     "name": "stdout",
     "output_type": "stream",
     "text": [
      "(1, 'https://newurl.com', 'some_podcast_title', 'nicer_name', 'dir/transcript/path', 'dir/embedding/path', 'dir/summary_path', 'A much better summary today!')\n",
      "(2, 'https://other_podcast.com', 'other_podcast_title', 'other_podcast_name', 'dir/transcript/otherpath', 'dir/embedding/otherpath', 'dir/summary_otherpath', 'This is a great other summary!')\n"
     ]
    },
    {
     "data": {
      "text/plain": [
       "[(1,\n",
       "  'https://newurl.com',\n",
       "  'some_podcast_title',\n",
       "  'nicer_name',\n",
       "  'dir/transcript/path',\n",
       "  'dir/embedding/path',\n",
       "  'dir/summary_path',\n",
       "  'A much better summary today!'),\n",
       " (2,\n",
       "  'https://other_podcast.com',\n",
       "  'other_podcast_title',\n",
       "  'other_podcast_name',\n",
       "  'dir/transcript/otherpath',\n",
       "  'dir/embedding/otherpath',\n",
       "  'dir/summary_otherpath',\n",
       "  'This is a great other summary!')]"
      ]
     },
     "execution_count": 45,
     "metadata": {},
     "output_type": "execute_result"
    }
   ],
   "source": [
    "podcast_db.query_db(\"all\")"
   ]
  },
  {
   "cell_type": "code",
   "execution_count": 46,
   "id": "039a5d46",
   "metadata": {},
   "outputs": [
    {
     "name": "stdout",
     "output_type": "stream",
     "text": [
      "(1, 'https://newurl.com', 'some_podcast_title')\n"
     ]
    },
    {
     "data": {
      "text/plain": [
       "[(1, 'https://newurl.com', 'some_podcast_title')]"
      ]
     },
     "execution_count": 46,
     "metadata": {},
     "output_type": "execute_result"
    }
   ],
   "source": [
    "podcast_db.query_db(\"SELECT pid, url, podcast_title from podcast_details WHERE pid = 1\")"
   ]
  },
  {
   "cell_type": "code",
   "execution_count": 16,
   "id": "9838568b",
   "metadata": {},
   "outputs": [
    {
     "name": "stdout",
     "output_type": "stream",
     "text": [
      "UPDATE podcast_details SET url = 'https://newurl.com', podcast_name = 'nicer_name', summary = 'A much better summary today!' WHERE pid = 1\n",
      "Record with pid = 1 has been successfully updated.\n"
     ]
    }
   ],
   "source": [
    "update_dict = {\"url\" : \"https://newurl.com\", \"podcast_name\" : \"nicer_name\", \"summary\" : \"A much better summary today!\"}\n",
    "podcast_db.update_db(1, update_dict)"
   ]
  },
  {
   "cell_type": "code",
   "execution_count": 17,
   "id": "4e115a0d",
   "metadata": {},
   "outputs": [
    {
     "name": "stdout",
     "output_type": "stream",
     "text": [
      "(1, 'https://newurl.com', 'some_podcast_title', 'nicer_name', 'dir/transcript/path', 'dir/embedding/path', 'dir/summary_path', 'A much better summary today!')\n",
      "(2, 'https://other_podcast.com', 'other_podcast_title', 'other_podcast_name', 'dir/transcript/otherpath', 'dir/embedding/otherpath', 'dir/summary_otherpath', 'This is a great other summary!')\n"
     ]
    },
    {
     "data": {
      "text/plain": [
       "[(1,\n",
       "  'https://newurl.com',\n",
       "  'some_podcast_title',\n",
       "  'nicer_name',\n",
       "  'dir/transcript/path',\n",
       "  'dir/embedding/path',\n",
       "  'dir/summary_path',\n",
       "  'A much better summary today!'),\n",
       " (2,\n",
       "  'https://other_podcast.com',\n",
       "  'other_podcast_title',\n",
       "  'other_podcast_name',\n",
       "  'dir/transcript/otherpath',\n",
       "  'dir/embedding/otherpath',\n",
       "  'dir/summary_otherpath',\n",
       "  'This is a great other summary!')]"
      ]
     },
     "execution_count": 17,
     "metadata": {},
     "output_type": "execute_result"
    }
   ],
   "source": [
    "podcast_db.query_db(\"all\")"
   ]
  },
  {
   "cell_type": "markdown",
   "id": "6d0d31fe",
   "metadata": {},
   "source": [
    "#### How does the table 1 and table 2 update work. Do we have to manualy insert in both or just table 2."
   ]
  },
  {
   "cell_type": "code",
   "execution_count": 40,
   "id": "16b9bb4d",
   "metadata": {},
   "outputs": [],
   "source": [
    "podcast_1 = (12333,)\n",
    "podcast_2 = (98,)\n",
    "podcast_views = [podcast_1, podcast_2]"
   ]
  },
  {
   "cell_type": "code",
   "execution_count": 41,
   "id": "62f5ade9",
   "metadata": {},
   "outputs": [
    {
     "data": {
      "text/plain": [
       "[(12333,), (98,)]"
      ]
     },
     "execution_count": 41,
     "metadata": {},
     "output_type": "execute_result"
    }
   ],
   "source": [
    "podcast_views"
   ]
  },
  {
   "cell_type": "code",
   "execution_count": 42,
   "id": "819940db",
   "metadata": {},
   "outputs": [
    {
     "name": "stdout",
     "output_type": "stream",
     "text": [
      "podcast_views\n",
      "2 records successfully inserted.\n"
     ]
    }
   ],
   "source": [
    "podcast_db.insert_podcast(podcast_views, which_table = \"first\")"
   ]
  },
  {
   "cell_type": "code",
   "execution_count": 43,
   "id": "1498588c",
   "metadata": {},
   "outputs": [
    {
     "name": "stdout",
     "output_type": "stream",
     "text": [
      "(1, 12333)\n",
      "(2, 98)\n"
     ]
    },
    {
     "data": {
      "text/plain": [
       "[(1, 12333), (2, 98)]"
      ]
     },
     "execution_count": 43,
     "metadata": {},
     "output_type": "execute_result"
    }
   ],
   "source": [
    "podcast_db.query_db(\"SELECT * from podcast_views\")"
   ]
  },
  {
   "cell_type": "code",
   "execution_count": null,
   "id": "9767d94b",
   "metadata": {},
   "outputs": [],
   "source": []
  }
 ],
 "metadata": {
  "kernelspec": {
   "display_name": "Python 3 (ipykernel)",
   "language": "python",
   "name": "python3"
  },
  "language_info": {
   "codemirror_mode": {
    "name": "ipython",
    "version": 3
   },
   "file_extension": ".py",
   "mimetype": "text/x-python",
   "name": "python",
   "nbconvert_exporter": "python",
   "pygments_lexer": "ipython3",
   "version": "3.9.13"
  }
 },
 "nbformat": 4,
 "nbformat_minor": 5
}
