{
 "cells": [
  {
   "cell_type": "code",
   "execution_count": 2,
   "id": "f0edfece-7194-466b-9562-76a104401ff1",
   "metadata": {
    "tags": []
   },
   "outputs": [],
   "source": [
    "%load_ext autoreload\n",
    "%autoreload 2"
   ]
  },
  {
   "cell_type": "code",
   "execution_count": 3,
   "id": "dd2e7070-aad7-4961-8849-53b1f5c0ac5f",
   "metadata": {
    "tags": []
   },
   "outputs": [],
   "source": [
    "import os\n",
    "import sys\n",
    "\n",
    "import time\n",
    "import random\n",
    "import pickle\n",
    "\n",
    "import numpy as np\n",
    "import pandas as pd\n",
    "\n",
    "from dataset import PodcastDataset, PodcastDB"
   ]
  },
  {
   "cell_type": "code",
   "execution_count": 4,
   "id": "2ce7dd26-993c-45c4-bcd1-5faa7f5622bd",
   "metadata": {
    "tags": []
   },
   "outputs": [
    {
     "name": "stdout",
     "output_type": "stream",
     "text": [
      "Established MySQL connection with host.\n",
      "Established MySQL connection with database test_database.\n",
      "Table podcast_details successfully created or are present in database test_database.\n"
     ]
    }
   ],
   "source": [
    "podcast_db = PodcastDB(db_name=\"test_database\")\n",
    "podcast_dataset = PodcastDataset(base_dir=\"podcast_details/\", database=podcast_db)"
   ]
  },
  {
   "cell_type": "markdown",
   "id": "8f654071-5eef-45a9-926a-086adbcb315d",
   "metadata": {
    "jp-MarkdownHeadingCollapsed": true,
    "tags": []
   },
   "source": [
    "### Test DB Functionalities"
   ]
  },
  {
   "cell_type": "code",
   "execution_count": 6,
   "id": "ed16bf82-d51d-4a9a-a67e-c5a69bb476ca",
   "metadata": {
    "tags": []
   },
   "outputs": [
    {
     "data": {
      "text/plain": [
       "[]"
      ]
     },
     "execution_count": 6,
     "metadata": {},
     "output_type": "execute_result"
    }
   ],
   "source": [
    "podcast_db.show_db(['pid', 'url'])"
   ]
  },
  {
   "cell_type": "code",
   "execution_count": 10,
   "id": "2a6c2bb5-d3bd-4989-a93e-4e0f9357fcad",
   "metadata": {
    "tags": []
   },
   "outputs": [
    {
     "name": "stdout",
     "output_type": "stream",
     "text": [
      "\n",
      "Saving Dataset to DB...\n",
      "1 records successfully inserted.\n"
     ]
    }
   ],
   "source": [
    "podcast_params = [(\"placeholder\", \"placeholder\", \"placeholder\", \"placeholder\", \"placeholder\", \"placeholder\", \"placeholder\",)]\n",
    "podcast_dataset.add_podcast_from_list(podcast_params)\n",
    "\n",
    "podcast_params = [(\"placeholder\", \"placeholder\", \"placeholder\", \"placeholder\", \"placeholder\", \"placeholder\", \"placeholder\",)]\n",
    "podcast_dataset.add_podcast_from_list(podcast_params)"
   ]
  },
  {
   "cell_type": "code",
   "execution_count": 11,
   "id": "bac0edf4-b243-428f-b226-e106af8ecf68",
   "metadata": {
    "tags": []
   },
   "outputs": [
    {
     "name": "stdout",
     "output_type": "stream",
     "text": [
      "(1, 'placeholder')\n",
      "(2, 'placeholder')\n"
     ]
    },
    {
     "data": {
      "text/plain": [
       "[(1, 'placeholder'), (2, 'placeholder')]"
      ]
     },
     "execution_count": 11,
     "metadata": {},
     "output_type": "execute_result"
    }
   ],
   "source": [
    "podcast_db.show_db(['pid', 'url'])"
   ]
  },
  {
   "cell_type": "code",
   "execution_count": 12,
   "id": "74cbe11c-b7a2-4223-9464-bfbed797e712",
   "metadata": {
    "tags": []
   },
   "outputs": [
    {
     "name": "stdout",
     "output_type": "stream",
     "text": [
      "(1, 'placeholder', 'placeholder', 'placeholder', 'placeholder', 'placeholder', 'placeholder', 'placeholder')\n",
      "(2, 'placeholder', 'placeholder', 'placeholder', 'placeholder', 'placeholder', 'placeholder', 'placeholder')\n"
     ]
    },
    {
     "data": {
      "text/plain": [
       "{1: {'pid': 1,\n",
       "  'url': 'placeholder',\n",
       "  'podcast_title': 'placeholder',\n",
       "  'podcast_name': 'placeholder',\n",
       "  'transcript_filepath': 'placeholder',\n",
       "  'embeddings_filepath': 'placeholder',\n",
       "  'list_summary': 'placeholder',\n",
       "  'text_summary': 'placeholder'},\n",
       " 2: {'pid': 2,\n",
       "  'url': 'placeholder',\n",
       "  'podcast_title': 'placeholder',\n",
       "  'podcast_name': 'placeholder',\n",
       "  'transcript_filepath': 'placeholder',\n",
       "  'embeddings_filepath': 'placeholder',\n",
       "  'list_summary': 'placeholder',\n",
       "  'text_summary': 'placeholder'}}"
      ]
     },
     "execution_count": 12,
     "metadata": {},
     "output_type": "execute_result"
    }
   ],
   "source": [
    "podcast_dataset.get_podcasts(select_all=True)"
   ]
  },
  {
   "cell_type": "code",
   "execution_count": 13,
   "id": "52ed1618-a5ca-4604-82fa-f0df6eba96b0",
   "metadata": {
    "tags": []
   },
   "outputs": [
    {
     "name": "stdout",
     "output_type": "stream",
     "text": [
      "(1, 'placeholder', 'placeholder', 'placeholder', 'placeholder', 'placeholder', 'placeholder', 'placeholder')\n"
     ]
    },
    {
     "data": {
      "text/plain": [
       "{1: {'pid': 1,\n",
       "  'url': 'placeholder',\n",
       "  'podcast_title': 'placeholder',\n",
       "  'podcast_name': 'placeholder',\n",
       "  'transcript_filepath': 'placeholder',\n",
       "  'embeddings_filepath': 'placeholder',\n",
       "  'list_summary': 'placeholder',\n",
       "  'text_summary': 'placeholder'}}"
      ]
     },
     "execution_count": 13,
     "metadata": {},
     "output_type": "execute_result"
    }
   ],
   "source": [
    "podcast_dataset.get_podcasts(pid=1)"
   ]
  },
  {
   "cell_type": "code",
   "execution_count": 18,
   "id": "f7e157d5-e660-446c-a551-8e10d4d76a2e",
   "metadata": {
    "tags": []
   },
   "outputs": [
    {
     "name": "stdout",
     "output_type": "stream",
     "text": [
      "(1, 'placeholder', 'placeholder', 'placeholder', 'placeholder', 'placeholder', 'placeholder', 'placeholder')\n",
      "(2, 'placeholder', 'placeholder', 'placeholder', 'placeholder', 'placeholder', 'placeholder', 'placeholder')\n"
     ]
    },
    {
     "data": {
      "text/plain": [
       "{1: {'pid': 1,\n",
       "  'url': 'placeholder',\n",
       "  'podcast_title': 'placeholder',\n",
       "  'podcast_name': 'placeholder',\n",
       "  'transcript_filepath': 'placeholder',\n",
       "  'embeddings_filepath': 'placeholder',\n",
       "  'list_summary': 'placeholder',\n",
       "  'text_summary': 'placeholder'},\n",
       " 2: {'pid': 2,\n",
       "  'url': 'placeholder',\n",
       "  'podcast_title': 'placeholder',\n",
       "  'podcast_name': 'placeholder',\n",
       "  'transcript_filepath': 'placeholder',\n",
       "  'embeddings_filepath': 'placeholder',\n",
       "  'list_summary': 'placeholder',\n",
       "  'text_summary': 'placeholder'}}"
      ]
     },
     "execution_count": 18,
     "metadata": {},
     "output_type": "execute_result"
    }
   ],
   "source": [
    "podcast_dataset.get_podcasts(podcast_name=\"placeholder\")"
   ]
  },
  {
   "cell_type": "markdown",
   "id": "cceb2c9b-71e1-4cb4-a451-8ebab0634bad",
   "metadata": {
    "tags": []
   },
   "source": [
    "### Test QA"
   ]
  },
  {
   "cell_type": "code",
   "execution_count": 5,
   "id": "b9aa9615-5bd0-405d-8dcb-b3e3186bb1f0",
   "metadata": {},
   "outputs": [
    {
     "name": "stdout",
     "output_type": "stream",
     "text": [
      "(1, 'https://www.youtube.com/watch?v=QLwDB0QTbSM', 'Random Test', 'My Biggest High School Regret | Mohamed Hoblos', 'podcast_details/transcript/9f0fb8e9-b5a3-4490-bf5c-f5071cce5b80_transcript.csv', 'podcast_details/embeddings/9f0fb8e9-b5a3-4490-bf5c-f5071cce5b80_embedding.pickle', \"I'm sorry, but you forgot to provide the podcast text to be summarized. Can you please provide me the text so I can summarize it for you?\", 'I am sorry, but there is no context provided to summarize. Can you please provide the context that needs to be summarized?')\n",
      "(2, 'https://www.youtube.com/watch?v=ykY69lSpDdo', 'Lex Fridman Podcast', 'Ray Kurzweil: Singularity, Superintelligence, and Immortality | Lex Fridman Podcast #321', 'podcast_details/transcript/2ac32f03-7f7c-468d-a72d-d8edad9d0722_transcript.csv', 'podcast_details/embeddings/2ac32f03-7f7c-468d-a72d-d8edad9d0722_embedding.pickle', '1. The podcast discusses futurist Ray Kurzweil\\'s optimistic view of the future of human civilization.\\n2. Kurzweil predicts that computers will pass the Turing test in 2029.\\n3. Passing the Turing test means that machines are conscious and will cause people to consider the role of AI.\\n4. Kurzweil believes that, in the 2030s, we will be able to connect our neocortex to computers to enhance our abilities.\\n5. AI can simulate the effects of drugs in the body, which could lead to more efficient medication creation.\\n6. The podcast discusses the metaverse, virtual reality, and the potential for meaningful interactions in digital spaces.\\n7. The potential risks associated with AI are discussed, including the spread of misinformation and the creation of deadly viruses or nanobots.\\n8. Kurzweil talks about his interest in the future of replicants and becoming a multi-planetary species.\\n9. Timing is important in technology development, and Kurzweil believes in the possibility of developing replicants after death.\\n10. Kurzweil is interested in \"spreading our superintelligence throughout the universe\" by sending nanobots to explore and colonize other parts of the universe.', 'In the podcast episode, Ray Kurzweil talks about the future of human civilization and the exponential growth of technology. He believes that in the 2030s, we will be able to connect our neocortex to computers, which will amplify our abilities and have implications for medication and other areas. The creation of large language models like Lambda have enabled AI to emulate human intelligence and enhance it. Kurzweil is optimistic about the future and predicts that humans will merge with machines in a Singularity, where our intelligence is multiplied exponentially. However, potential risks associated with AI are also mentioned. Kurzweil also discusses his interest in replicants after death and becoming a multi-planetary species by spreading our superintelligence throughout the universe with nanobots.')\n"
     ]
    },
    {
     "data": {
      "text/plain": [
       "{1: {'pid': 1,\n",
       "  'url': 'https://www.youtube.com/watch?v=QLwDB0QTbSM',\n",
       "  'podcast_title': 'Random Test',\n",
       "  'podcast_name': 'My Biggest High School Regret | Mohamed Hoblos',\n",
       "  'transcript_filepath': 'podcast_details/transcript/9f0fb8e9-b5a3-4490-bf5c-f5071cce5b80_transcript.csv',\n",
       "  'embeddings_filepath': 'podcast_details/embeddings/9f0fb8e9-b5a3-4490-bf5c-f5071cce5b80_embedding.pickle',\n",
       "  'list_summary': \"I'm sorry, but you forgot to provide the podcast text to be summarized. Can you please provide me the text so I can summarize it for you?\",\n",
       "  'text_summary': 'I am sorry, but there is no context provided to summarize. Can you please provide the context that needs to be summarized?'},\n",
       " 2: {'pid': 2,\n",
       "  'url': 'https://www.youtube.com/watch?v=ykY69lSpDdo',\n",
       "  'podcast_title': 'Lex Fridman Podcast',\n",
       "  'podcast_name': 'Ray Kurzweil: Singularity, Superintelligence, and Immortality | Lex Fridman Podcast #321',\n",
       "  'transcript_filepath': 'podcast_details/transcript/2ac32f03-7f7c-468d-a72d-d8edad9d0722_transcript.csv',\n",
       "  'embeddings_filepath': 'podcast_details/embeddings/2ac32f03-7f7c-468d-a72d-d8edad9d0722_embedding.pickle',\n",
       "  'list_summary': '1. The podcast discusses futurist Ray Kurzweil\\'s optimistic view of the future of human civilization.\\n2. Kurzweil predicts that computers will pass the Turing test in 2029.\\n3. Passing the Turing test means that machines are conscious and will cause people to consider the role of AI.\\n4. Kurzweil believes that, in the 2030s, we will be able to connect our neocortex to computers to enhance our abilities.\\n5. AI can simulate the effects of drugs in the body, which could lead to more efficient medication creation.\\n6. The podcast discusses the metaverse, virtual reality, and the potential for meaningful interactions in digital spaces.\\n7. The potential risks associated with AI are discussed, including the spread of misinformation and the creation of deadly viruses or nanobots.\\n8. Kurzweil talks about his interest in the future of replicants and becoming a multi-planetary species.\\n9. Timing is important in technology development, and Kurzweil believes in the possibility of developing replicants after death.\\n10. Kurzweil is interested in \"spreading our superintelligence throughout the universe\" by sending nanobots to explore and colonize other parts of the universe.',\n",
       "  'text_summary': 'In the podcast episode, Ray Kurzweil talks about the future of human civilization and the exponential growth of technology. He believes that in the 2030s, we will be able to connect our neocortex to computers, which will amplify our abilities and have implications for medication and other areas. The creation of large language models like Lambda have enabled AI to emulate human intelligence and enhance it. Kurzweil is optimistic about the future and predicts that humans will merge with machines in a Singularity, where our intelligence is multiplied exponentially. However, potential risks associated with AI are also mentioned. Kurzweil also discusses his interest in replicants after death and becoming a multi-planetary species by spreading our superintelligence throughout the universe with nanobots.'}}"
      ]
     },
     "execution_count": 5,
     "metadata": {},
     "output_type": "execute_result"
    }
   ],
   "source": [
    "podcast_dataset.get_podcasts(select_all=True)"
   ]
  },
  {
   "cell_type": "code",
   "execution_count": null,
   "id": "d2013186-e78b-423e-9957-4ea7b700fd6a",
   "metadata": {},
   "outputs": [],
   "source": []
  }
 ],
 "metadata": {
  "kernelspec": {
   "display_name": "Python 3 (ipykernel)",
   "language": "python",
   "name": "python3"
  },
  "language_info": {
   "codemirror_mode": {
    "name": "ipython",
    "version": 3
   },
   "file_extension": ".py",
   "mimetype": "text/x-python",
   "name": "python",
   "nbconvert_exporter": "python",
   "pygments_lexer": "ipython3",
   "version": "3.9.16"
  }
 },
 "nbformat": 4,
 "nbformat_minor": 5
}
