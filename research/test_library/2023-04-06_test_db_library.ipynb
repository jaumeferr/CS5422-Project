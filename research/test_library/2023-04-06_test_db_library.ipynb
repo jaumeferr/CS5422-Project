{
 "cells": [
  {
   "cell_type": "code",
   "execution_count": null,
   "id": "f0edfece-7194-466b-9562-76a104401ff1",
   "metadata": {
    "tags": []
   },
   "outputs": [],
   "source": [
    "%load_ext autoreload\n",
    "%autoreload 2"
   ]
  },
  {
   "cell_type": "code",
   "execution_count": null,
   "id": "dd2e7070-aad7-4961-8849-53b1f5c0ac5f",
   "metadata": {
    "tags": []
   },
   "outputs": [],
   "source": [
    "import os\n",
    "import sys\n",
    "\n",
    "import time\n",
    "import random\n",
    "import pickle\n",
    "\n",
    "import numpy as np\n",
    "import pandas as pd\n",
    "\n",
    "from dataset import PodcastDataset, PodcastDB"
   ]
  },
  {
   "cell_type": "code",
   "execution_count": null,
   "id": "2ce7dd26-993c-45c4-bcd1-5faa7f5622bd",
   "metadata": {
    "tags": []
   },
   "outputs": [],
   "source": [
    "podcast_db = PodcastDB(db_name=\"test_database\")\n",
    "podcast_dataset = PodcastDataset(base_dir=\"podcast_details/\", database=podcast_db)"
   ]
  },
  {
   "cell_type": "markdown",
   "id": "8f654071-5eef-45a9-926a-086adbcb315d",
   "metadata": {
    "tags": []
   },
   "source": [
    "### Test DB Functionalities"
   ]
  },
  {
   "cell_type": "code",
   "execution_count": null,
   "id": "ed16bf82-d51d-4a9a-a67e-c5a69bb476ca",
   "metadata": {
    "tags": []
   },
   "outputs": [],
   "source": [
    "podcast_db.show_db(['pid', 'url'])"
   ]
  },
  {
   "cell_type": "code",
   "execution_count": null,
   "id": "2a6c2bb5-d3bd-4989-a93e-4e0f9357fcad",
   "metadata": {
    "tags": []
   },
   "outputs": [],
   "source": [
    "podcast_params = [(\"placeholder\", \"placeholder\", \"placeholder\", \"placeholder\", \"placeholder\", \"placeholder\", \"placeholder\",)]\n",
    "podcast_dataset.add_podcast_from_list(podcast_params)\n",
    "\n",
    "podcast_params = [(\"placeholder\", \"placeholder\", \"placeholder\", \"placeholder\", \"placeholder\", \"placeholder\", \"placeholder\",)]\n",
    "podcast_dataset.add_podcast_from_list(podcast_params)"
   ]
  },
  {
   "cell_type": "code",
   "execution_count": null,
   "id": "bac0edf4-b243-428f-b226-e106af8ecf68",
   "metadata": {
    "tags": []
   },
   "outputs": [],
   "source": [
    "podcast_db.show_db(['pid', 'url'])"
   ]
  },
  {
   "cell_type": "code",
   "execution_count": null,
   "id": "74cbe11c-b7a2-4223-9464-bfbed797e712",
   "metadata": {
    "tags": []
   },
   "outputs": [],
   "source": [
    "podcast_dataset.get_podcasts(select_all=True)"
   ]
  },
  {
   "cell_type": "code",
   "execution_count": null,
   "id": "52ed1618-a5ca-4604-82fa-f0df6eba96b0",
   "metadata": {
    "tags": []
   },
   "outputs": [],
   "source": [
    "podcast_dataset.get_podcasts(pid=1)"
   ]
  },
  {
   "cell_type": "code",
   "execution_count": null,
   "id": "f7e157d5-e660-446c-a551-8e10d4d76a2e",
   "metadata": {
    "tags": []
   },
   "outputs": [],
   "source": [
    "podcast_dataset.get_podcasts(podcast_name=\"placeholder\")"
   ]
  },
  {
   "cell_type": "markdown",
   "id": "cceb2c9b-71e1-4cb4-a451-8ebab0634bad",
   "metadata": {
    "tags": []
   },
   "source": [
    "### Test QA"
   ]
  },
  {
   "cell_type": "code",
   "execution_count": null,
   "id": "b9aa9615-5bd0-405d-8dcb-b3e3186bb1f0",
   "metadata": {},
   "outputs": [],
   "source": [
    "podcast_dataset.get_podcasts(select_all=True)"
   ]
  },
  {
   "cell_type": "code",
   "execution_count": null,
   "id": "d2013186-e78b-423e-9957-4ea7b700fd6a",
   "metadata": {},
   "outputs": [],
   "source": []
  }
 ],
 "metadata": {
  "kernelspec": {
   "display_name": "Python 3 (ipykernel)",
   "language": "python",
   "name": "python3"
  },
  "language_info": {
   "codemirror_mode": {
    "name": "ipython",
    "version": 3
   },
   "file_extension": ".py",
   "mimetype": "text/x-python",
   "name": "python",
   "nbconvert_exporter": "python",
   "pygments_lexer": "ipython3",
   "version": "3.9.16"
  }
 },
 "nbformat": 4,
 "nbformat_minor": 5
}
