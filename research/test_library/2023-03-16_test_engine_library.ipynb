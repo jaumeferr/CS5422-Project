{
 "cells": [
  {
   "cell_type": "code",
   "execution_count": null,
   "id": "15314e32-befb-4b71-8882-83d13d6ddbe1",
   "metadata": {},
   "outputs": [],
   "source": [
    "import sys\n",
    "# Aldo\n",
    "# sys.path.append('/home/ubuntu/CS5224-Project/lib/')\n",
    "# Jaume\n",
    "sys.path.append('J:\\\\NUS Workspace\\\\CS5224 - Cloud Comp\\\\CS5224-Project\\\\lib\\\\')\n",
    "from dataset import PodcastDataset, PodcastData\n",
    "from engine import EmbeddingEngine, ChatEngine"
   ]
  },
  {
   "cell_type": "markdown",
   "id": "60116fd1-2aa3-445c-8474-3538d3f6ef56",
   "metadata": {},
   "source": [
    "### Process Dataset"
   ]
  },
  {
   "cell_type": "code",
   "execution_count": null,
   "id": "eefc14ed-708a-4545-872d-e74728d4da2c",
   "metadata": {},
   "outputs": [],
   "source": [
    "podcast_dataset = PodcastDataset(dataset_path=\"default.csv\")"
   ]
  },
  {
   "cell_type": "code",
   "execution_count": null,
   "id": "aefde462-fee8-45e3-8f64-724986aabf76",
   "metadata": {},
   "outputs": [],
   "source": [
    "url_long = \"https://www.youtube.com/watch?v=sY8aFSY2zv4\"\n",
    "url_short = \"https://www.youtube.com/watch?v=DuaTGng9tRU\"\n",
    "run = False\n",
    "\n",
    "if run:\n",
    "    podcast_dataset.add_podcast(url=url_long, \n",
    "                                podcast_name=\"Test Podcast\",\n",
    "                                openai_key=\"\"\n",
    "                               )"
   ]
  },
  {
   "cell_type": "code",
   "execution_count": null,
   "id": "895d68bb-1add-402c-a825-d80c72b285fd",
   "metadata": {},
   "outputs": [],
   "source": [
    "podcast_dataset.dataset_df"
   ]
  },
  {
   "cell_type": "markdown",
   "id": "84848c6d-4bf8-41af-8dc1-474c54eacaf9",
   "metadata": {},
   "source": [
    "### Podcast Data"
   ]
  },
  {
   "cell_type": "code",
   "execution_count": null,
   "id": "444d0815-fab7-4315-a90c-bb0988daaf39",
   "metadata": {},
   "outputs": [],
   "source": [
    "pod = PodcastData(podcast_dataset, \"8c7254cb-7804-433d-bf0c-30bb93b2a1dd\")\n",
    "pod.show_data()"
   ]
  },
  {
   "cell_type": "code",
   "execution_count": null,
   "id": "f7176818-9923-4718-9e3c-b3574a612b7b",
   "metadata": {},
   "outputs": [],
   "source": [
    "transcript = pod.get_transcription()"
   ]
  },
  {
   "cell_type": "code",
   "execution_count": null,
   "id": "61c88d00-48af-47ad-83ba-c72a418da19a",
   "metadata": {},
   "outputs": [],
   "source": [
    "embeddings = pod.get_embeddings()"
   ]
  },
  {
   "cell_type": "code",
   "execution_count": null,
   "id": "cb0de9f0-a79d-4e75-9873-1bbd0162548c",
   "metadata": {},
   "outputs": [],
   "source": [
    "summary = pod.get_summary()\n",
    "print(summary)"
   ]
  },
  {
   "cell_type": "markdown",
   "id": "dfe215ea-f2ab-4db2-825b-727fefadf86d",
   "metadata": {},
   "source": [
    "### Q/A with Podcast Data"
   ]
  },
  {
   "cell_type": "code",
   "execution_count": null,
   "id": "e9f70770-c811-4505-aa63-1a169e9e6ee6",
   "metadata": {},
   "outputs": [],
   "source": [
    "chat_engine = ChatEngine(openai_key=\"\")"
   ]
  },
  {
   "cell_type": "code",
   "execution_count": null,
   "id": "52e5c8d2-db3e-471e-8114-2bdd18c02228",
   "metadata": {},
   "outputs": [],
   "source": [
    "question_prompt = \"What did he say about his diet?\"\n",
    "\n",
    "chat_engine.construct_prompt(question_prompt, \n",
    "                             document_embeddings=embeddings,\n",
    "                             document_df=transcript)\n",
    "answer = chat_engine.call()"
   ]
  },
  {
   "cell_type": "code",
   "execution_count": null,
   "id": "28274891-d8c4-4fef-aa95-218ffc2f6fa8",
   "metadata": {},
   "outputs": [],
   "source": [
    "print(answer)"
   ]
  },
  {
   "cell_type": "code",
   "execution_count": null,
   "id": "871b95da-5ab2-4e80-9012-68014f89fb8f",
   "metadata": {},
   "outputs": [],
   "source": []
  }
 ],
 "metadata": {
  "kernelspec": {
   "display_name": "Python 3 (ipykernel)",
   "language": "python",
   "name": "python3"
  },
  "language_info": {
   "codemirror_mode": {
    "name": "ipython",
    "version": 3
   },
   "file_extension": ".py",
   "mimetype": "text/x-python",
   "name": "python",
   "nbconvert_exporter": "python",
   "pygments_lexer": "ipython3",
   "version": "3.9.16"
  }
 },
 "nbformat": 4,
 "nbformat_minor": 5
}
