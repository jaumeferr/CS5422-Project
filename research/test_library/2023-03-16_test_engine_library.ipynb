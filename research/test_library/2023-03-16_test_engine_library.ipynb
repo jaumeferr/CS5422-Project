{
 "cells": [
  {
   "cell_type": "code",
   "execution_count": 2,
   "id": "15314e32-befb-4b71-8882-83d13d6ddbe1",
   "metadata": {},
   "outputs": [
    {
     "name": "stderr",
     "output_type": "stream",
     "text": [
      "c:\\Users\\Jaume\\AppData\\Local\\Programs\\Python\\Python39\\lib\\site-packages\\tqdm\\auto.py:22: TqdmWarning: IProgress not found. Please update jupyter and ipywidgets. See https://ipywidgets.readthedocs.io/en/stable/user_install.html\n",
      "  from .autonotebook import tqdm as notebook_tqdm\n",
      "[nltk_data] Downloading package punkt to\n",
      "[nltk_data]     C:\\Users\\Jaume\\AppData\\Roaming\\nltk_data...\n",
      "[nltk_data]   Package punkt is already up-to-date!\n"
     ]
    }
   ],
   "source": [
    "import sys\n",
    "# Aldo\n",
    "# sys.path.append('/home/ubuntu/CS5224-Project/lib/')\n",
    "# Jaume\n",
    "sys.path.append('J:\\\\NUS Workspace\\\\CS5224 - Cloud Comp\\\\CS5224-Project\\\\lib\\\\')\n",
    "from dataset import PodcastDataset, PodcastData\n",
    "from engine import EmbeddingEngine, ChatEngine"
   ]
  },
  {
   "cell_type": "markdown",
   "id": "60116fd1-2aa3-445c-8474-3538d3f6ef56",
   "metadata": {},
   "source": [
    "### Process Dataset"
   ]
  },
  {
   "cell_type": "code",
   "execution_count": 2,
   "id": "eefc14ed-708a-4545-872d-e74728d4da2c",
   "metadata": {},
   "outputs": [],
   "source": [
    "podcast_dataset = PodcastDataset(dataset_path=\"default.csv\")"
   ]
  },
  {
   "cell_type": "code",
   "execution_count": 3,
   "id": "aefde462-fee8-45e3-8f64-724986aabf76",
   "metadata": {},
   "outputs": [],
   "source": [
    "url_long = \"https://www.youtube.com/watch?v=sY8aFSY2zv4\"\n",
    "url_short = \"https://www.youtube.com/watch?v=DuaTGng9tRU\"\n",
    "run = False\n",
    "\n",
    "if run:\n",
    "    podcast_dataset.add_podcast(url=url_long, \n",
    "                                podcast_name=\"Test Podcast\",\n",
    "                                openai_key=\"\"\n",
    "                               )"
   ]
  },
  {
   "cell_type": "code",
   "execution_count": 4,
   "id": "895d68bb-1add-402c-a825-d80c72b285fd",
   "metadata": {},
   "outputs": [
    {
     "data": {
      "text/html": [
       "<div>\n",
       "<style scoped>\n",
       "    .dataframe tbody tr th:only-of-type {\n",
       "        vertical-align: middle;\n",
       "    }\n",
       "\n",
       "    .dataframe tbody tr th {\n",
       "        vertical-align: top;\n",
       "    }\n",
       "\n",
       "    .dataframe thead th {\n",
       "        text-align: right;\n",
       "    }\n",
       "</style>\n",
       "<table border=\"1\" class=\"dataframe\">\n",
       "  <thead>\n",
       "    <tr style=\"text-align: right;\">\n",
       "      <th></th>\n",
       "      <th>id</th>\n",
       "      <th>url</th>\n",
       "      <th>title</th>\n",
       "      <th>podcast_name</th>\n",
       "      <th>transcript_filepath</th>\n",
       "      <th>embeddings_filepath</th>\n",
       "      <th>summary_filepath</th>\n",
       "      <th>summary</th>\n",
       "    </tr>\n",
       "  </thead>\n",
       "  <tbody>\n",
       "    <tr>\n",
       "      <th>0</th>\n",
       "      <td>1cace324-e4a3-49a0-80e5-74b875641a0b</td>\n",
       "      <td>https://www.youtube.com/watch?v=DuaTGng9tRU</td>\n",
       "      <td>MY OPINION OF QATAR and the hosting of the WOR...</td>\n",
       "      <td>Test Podcast</td>\n",
       "      <td>podcast_files/transcript/1cace324-e4a3-49a0-80...</td>\n",
       "      <td>podcast_files/embeddings/1cace324-e4a3-49a0-80...</td>\n",
       "      <td>podcast_files/summary/1cace324-e4a3-49a0-80e5-...</td>\n",
       "      <td>1. The podcast discusses mental health and its...</td>\n",
       "    </tr>\n",
       "    <tr>\n",
       "      <th>1</th>\n",
       "      <td>8c7254cb-7804-433d-bf0c-30bb93b2a1dd</td>\n",
       "      <td>https://www.youtube.com/watch?v=sY8aFSY2zv4</td>\n",
       "      <td>Jordan Peterson: Life, Death, Power, Fame, and...</td>\n",
       "      <td>Test Podcast</td>\n",
       "      <td>podcast_files/transcript/8c7254cb-7804-433d-bf...</td>\n",
       "      <td>podcast_files/embeddings/8c7254cb-7804-433d-bf...</td>\n",
       "      <td>podcast_files/summary/8c7254cb-7804-433d-bf0c-...</td>\n",
       "      <td>1. The podcast features a conversation with Jo...</td>\n",
       "    </tr>\n",
       "  </tbody>\n",
       "</table>\n",
       "</div>"
      ],
      "text/plain": [
       "                                     id  \\\n",
       "0  1cace324-e4a3-49a0-80e5-74b875641a0b   \n",
       "1  8c7254cb-7804-433d-bf0c-30bb93b2a1dd   \n",
       "\n",
       "                                           url  \\\n",
       "0  https://www.youtube.com/watch?v=DuaTGng9tRU   \n",
       "1  https://www.youtube.com/watch?v=sY8aFSY2zv4   \n",
       "\n",
       "                                               title  podcast_name  \\\n",
       "0  MY OPINION OF QATAR and the hosting of the WOR...  Test Podcast   \n",
       "1  Jordan Peterson: Life, Death, Power, Fame, and...  Test Podcast   \n",
       "\n",
       "                                 transcript_filepath  \\\n",
       "0  podcast_files/transcript/1cace324-e4a3-49a0-80...   \n",
       "1  podcast_files/transcript/8c7254cb-7804-433d-bf...   \n",
       "\n",
       "                                 embeddings_filepath  \\\n",
       "0  podcast_files/embeddings/1cace324-e4a3-49a0-80...   \n",
       "1  podcast_files/embeddings/8c7254cb-7804-433d-bf...   \n",
       "\n",
       "                                    summary_filepath  \\\n",
       "0  podcast_files/summary/1cace324-e4a3-49a0-80e5-...   \n",
       "1  podcast_files/summary/8c7254cb-7804-433d-bf0c-...   \n",
       "\n",
       "                                             summary  \n",
       "0  1. The podcast discusses mental health and its...  \n",
       "1  1. The podcast features a conversation with Jo...  "
      ]
     },
     "execution_count": 4,
     "metadata": {},
     "output_type": "execute_result"
    }
   ],
   "source": [
    "podcast_dataset.dataset_df"
   ]
  },
  {
   "cell_type": "markdown",
   "id": "84848c6d-4bf8-41af-8dc1-474c54eacaf9",
   "metadata": {},
   "source": [
    "### Podcast Data"
   ]
  },
  {
   "cell_type": "code",
   "execution_count": 5,
   "id": "444d0815-fab7-4315-a90c-bb0988daaf39",
   "metadata": {},
   "outputs": [
    {
     "name": "stdout",
     "output_type": "stream",
     "text": [
      "                                     id  \\\n",
      "1  8c7254cb-7804-433d-bf0c-30bb93b2a1dd   \n",
      "\n",
      "                                           url  \\\n",
      "1  https://www.youtube.com/watch?v=sY8aFSY2zv4   \n",
      "\n",
      "                                               title  podcast_name  \\\n",
      "1  Jordan Peterson: Life, Death, Power, Fame, and...  Test Podcast   \n",
      "\n",
      "                                 transcript_filepath  \\\n",
      "1  podcast_files/transcript/8c7254cb-7804-433d-bf...   \n",
      "\n",
      "                                 embeddings_filepath  \\\n",
      "1  podcast_files/embeddings/8c7254cb-7804-433d-bf...   \n",
      "\n",
      "                                    summary_filepath  \\\n",
      "1  podcast_files/summary/8c7254cb-7804-433d-bf0c-...   \n",
      "\n",
      "                                             summary  \n",
      "1  1. The podcast features a conversation with Jo...  \n"
     ]
    }
   ],
   "source": [
    "pod = PodcastData(podcast_dataset, \"8c7254cb-7804-433d-bf0c-30bb93b2a1dd\")\n",
    "pod.show_data()"
   ]
  },
  {
   "cell_type": "code",
   "execution_count": 6,
   "id": "f7176818-9923-4718-9e3c-b3574a612b7b",
   "metadata": {},
   "outputs": [],
   "source": [
    "transcript = pod.get_transcription()"
   ]
  },
  {
   "cell_type": "code",
   "execution_count": 7,
   "id": "61c88d00-48af-47ad-83ba-c72a418da19a",
   "metadata": {},
   "outputs": [],
   "source": [
    "embeddings = pod.get_embeddings()"
   ]
  },
  {
   "cell_type": "code",
   "execution_count": 8,
   "id": "cb0de9f0-a79d-4e75-9873-1bbd0162548c",
   "metadata": {},
   "outputs": [
    {
     "name": "stdout",
     "output_type": "stream",
     "text": [
      "1. The podcast features a conversation with Jordan Peterson about the relationship between beauty, faith, and the divine.\n",
      "2. Peterson argues that beauty is necessary for human flourishing and serves as a model for how we should live our lives.\n",
      "3. He also discusses the role of the transcendent in scientific inquiry and redemptive experiences.\n",
      "4. Ethics must be embedded in science, including the development of AI and robotics.\n",
      "5. Peterson reflects on his own fame and the importance of criticism and not becoming too harsh or cynical.\n",
      "6. The speaker discusses death, hell, and the transformative power of facing fears.\n",
      "7. Topics range from famine, Dutch farming, and COVID lockdowns, to ideologies for building a better world.\n",
      "8. The podcast critiques Canadian Prime Minister Justin Trudeau's decisions and leadership qualities.\n",
      "9. The importance of conversation in healing society is also discussed.\n",
      "10. Peterson shares his experiences with comedy and his diet and travel routines while on tour.\n",
      "11. The process of crafting his lectures and the concept of meaning and reality are also explored.\n",
      "12. A typical day on tour for Peterson is discussed, including fan interactions and health issues.\n",
      "13. The speaker shares their experience with low-carb diets and intermittent fasting.\n",
      "14. The impact of historical events on the psyche and the usefulness of programming for thought experiments are explored.\n",
      "15. Strategies for overcoming depression, taking on responsibility, and finding well-being in small tasks are discussed.\n",
      "16. The interconnectedness of order and freedom is explored, as well as improving relationships and the nature of good and evil.\n",
      "17. Great literature and characters are examined, with personal insights on the novel, 'The Idiot.' \n",
      "18. The podcast covers a broad range of philosophical and societal topics.\n",
      "19. Topics include Putin's beliefs and propaganda, breakdown of hospitality in politics, and the importance of questioning and intention.\n",
      "20. Peterson emphasizes the importance of structure and spontaneity in his lectures, as well as the role of his wife in his travels.\n"
     ]
    }
   ],
   "source": [
    "summary = pod.get_summary()\n",
    "print(summary)"
   ]
  },
  {
   "cell_type": "markdown",
   "id": "dfe215ea-f2ab-4db2-825b-727fefadf86d",
   "metadata": {},
   "source": [
    "### Q/A with Podcast Data"
   ]
  },
  {
   "cell_type": "code",
   "execution_count": 9,
   "id": "e9f70770-c811-4505-aa63-1a169e9e6ee6",
   "metadata": {},
   "outputs": [],
   "source": [
    "chat_engine = ChatEngine(openai_key=\"\")"
   ]
  },
  {
   "cell_type": "code",
   "execution_count": 10,
   "id": "52e5c8d2-db3e-471e-8114-2bdd18c02228",
   "metadata": {},
   "outputs": [],
   "source": [
    "question_prompt = \"What did he say about his diet?\"\n",
    "\n",
    "chat_engine.construct_prompt(question_prompt, \n",
    "                             document_embeddings=embeddings,\n",
    "                             document_df=transcript)\n",
    "answer = chat_engine.call()"
   ]
  },
  {
   "cell_type": "code",
   "execution_count": 11,
   "id": "28274891-d8c4-4fef-aa95-218ffc2f6fa8",
   "metadata": {},
   "outputs": [
    {
     "name": "stdout",
     "output_type": "stream",
     "text": [
      "He mentioned that he personally feels his best when he eats only meat and he referred to it as intermittent fasting. He also talked about how he discovered how incredible he feels mentally when he fasts, especially when he only eats once a day. He made the comment that if he had to only eat one thing, meat isn't a bad option. He didn't go into much detail about his diet, but overall seemed to be a proponent of low carb diets.\n"
     ]
    }
   ],
   "source": [
    "print(answer)"
   ]
  },
  {
   "cell_type": "code",
   "execution_count": null,
   "id": "871b95da-5ab2-4e80-9012-68014f89fb8f",
   "metadata": {},
   "outputs": [],
   "source": []
  }
 ],
 "metadata": {
  "kernelspec": {
   "display_name": "Python 3 (ipykernel)",
   "language": "python",
   "name": "python3"
  },
  "language_info": {
   "codemirror_mode": {
    "name": "ipython",
    "version": 3
   },
   "file_extension": ".py",
   "mimetype": "text/x-python",
   "name": "python",
   "nbconvert_exporter": "python",
   "pygments_lexer": "ipython3",
   "version": "3.9.16"
  }
 },
 "nbformat": 4,
 "nbformat_minor": 5
}
